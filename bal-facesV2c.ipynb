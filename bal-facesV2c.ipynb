{
 "cells": [
  {
   "cell_type": "code",
   "execution_count": 1,
   "metadata": {
    "tags": []
   },
   "outputs": [],
   "source": [
    "import pandas as pd\n",
    "import numpy as np\n",
    "from sklearn import (metrics, linear_model, datasets,\n",
    "                     model_selection, preprocessing, dummy)\n",
    "lfw_people = datasets.fetch_lfw_people(min_faces_per_person=20, resize=0.04)\n",
    "data = pd.DataFrame(lfw_people.data)\n",
    "feature_columns=data.columns\n",
    "names=pd.Series(lfw_people.target_names, name='class_name')\n",
    "names = names[names.isin(['George W Bush', 'Hugo Chavez',  'John Ashcroft'])]\n",
    "data['target'] = lfw_people['target']\n",
    "data = data.merge(names, left_on='target', right_index=True)\n",
    "#data"
   ]
  },
  {
   "cell_type": "code",
   "execution_count": 2,
   "metadata": {
    "tags": []
   },
   "outputs": [
    {
     "data": {
      "text/plain": [
       "((654, 15), (654,))"
      ]
     },
     "execution_count": 2,
     "metadata": {},
     "output_type": "execute_result"
    }
   ],
   "source": [
    "le = preprocessing.LabelEncoder().fit(data.class_name)\n",
    "X = np.array(data[feature_columns])\n",
    "y = le.transform(data.class_name)\n",
    "X.shape, y.shape"
   ]
  },
  {
   "cell_type": "code",
   "execution_count": 3,
   "metadata": {},
   "outputs": [
    {
     "name": "stdout",
     "output_type": "stream",
     "text": [
      "{'0': 'George W Bush', '1': 'Hugo Chavez', '2': 'John Ashcroft'}\n"
     ]
    },
    {
     "data": {
      "text/plain": [
       "0    0.810398\n",
       "1    0.108563\n",
       "2    0.081040\n",
       "dtype: float64"
      ]
     },
     "execution_count": 3,
     "metadata": {},
     "output_type": "execute_result"
    }
   ],
   "source": [
    "name_dict = {str(i):c for i,c in enumerate(le.classes_)}\n",
    "print(name_dict)\n",
    "pd.Series(y).value_counts(normalize=True).sort_index()"
   ]
  },
  {
   "cell_type": "code",
   "execution_count": 4,
   "metadata": {},
   "outputs": [],
   "source": [
    "X_tr, X_te, y_tr, y_te = model_selection.train_test_split(X, y, \n",
    "            test_size=0.5, stratify=y, random_state=12345)"
   ]
  },
  {
   "cell_type": "code",
   "execution_count": 5,
   "metadata": {},
   "outputs": [],
   "source": [
    "def classif_report(y, y_pred):\n",
    "    return pd.DataFrame(metrics.classification_report(y, y_pred, \n",
    "      output_dict=True, zero_division=0)).rename_axis(columns='class'\n",
    "      ).loc[['recall'],:].rename(columns={'macro avg':'macro avg = bal accur', \n",
    "                                'weighted avg':'wtd avg = accur'} | name_dict)"
   ]
  },
  {
   "cell_type": "markdown",
   "metadata": {},
   "source": [
    "## First, dummy classifier which always chooses the majority class"
   ]
  },
  {
   "cell_type": "code",
   "execution_count": 6,
   "metadata": {},
   "outputs": [
    {
     "data": {
      "text/html": [
       "<div>\n",
       "<style scoped>\n",
       "    .dataframe tbody tr th:only-of-type {\n",
       "        vertical-align: middle;\n",
       "    }\n",
       "\n",
       "    .dataframe tbody tr th {\n",
       "        vertical-align: top;\n",
       "    }\n",
       "\n",
       "    .dataframe thead th {\n",
       "        text-align: right;\n",
       "    }\n",
       "</style>\n",
       "<table border=\"1\" class=\"dataframe\">\n",
       "  <thead>\n",
       "    <tr style=\"text-align: right;\">\n",
       "      <th>class</th>\n",
       "      <th>George W Bush</th>\n",
       "      <th>Hugo Chavez</th>\n",
       "      <th>John Ashcroft</th>\n",
       "      <th>accuracy</th>\n",
       "      <th>macro avg = bal accur</th>\n",
       "      <th>wtd avg = accur</th>\n",
       "    </tr>\n",
       "  </thead>\n",
       "  <tbody>\n",
       "    <tr>\n",
       "      <th>recall</th>\n",
       "      <td>1.0</td>\n",
       "      <td>0.0</td>\n",
       "      <td>0.0</td>\n",
       "      <td>0.810398</td>\n",
       "      <td>0.333333</td>\n",
       "      <td>0.810398</td>\n",
       "    </tr>\n",
       "  </tbody>\n",
       "</table>\n",
       "</div>"
      ],
      "text/plain": [
       "class   George W Bush  Hugo Chavez  John Ashcroft  accuracy  \\\n",
       "recall            1.0          0.0            0.0  0.810398   \n",
       "\n",
       "class   macro avg = bal accur  wtd avg = accur  \n",
       "recall               0.333333         0.810398  "
      ]
     },
     "execution_count": 6,
     "metadata": {},
     "output_type": "execute_result"
    }
   ],
   "source": [
    "classif_report(y_te, dummy.DummyClassifier().fit(X_tr, y_tr).predict(X_te))"
   ]
  },
  {
   "cell_type": "markdown",
   "metadata": {},
   "source": [
    "**already get 81% accuracy just from dummy classifier which always chooses Bush**"
   ]
  },
  {
   "cell_type": "markdown",
   "metadata": {},
   "source": [
    "## Now original model with original imbalanced data"
   ]
  },
  {
   "cell_type": "code",
   "execution_count": 7,
   "metadata": {},
   "outputs": [
    {
     "name": "stdout",
     "output_type": "stream",
     "text": [
      "CPU times: total: 844 ms\n",
      "Wall time: 833 ms\n"
     ]
    },
    {
     "data": {
      "text/html": [
       "<div>\n",
       "<style scoped>\n",
       "    .dataframe tbody tr th:only-of-type {\n",
       "        vertical-align: middle;\n",
       "    }\n",
       "\n",
       "    .dataframe tbody tr th {\n",
       "        vertical-align: top;\n",
       "    }\n",
       "\n",
       "    .dataframe thead th {\n",
       "        text-align: right;\n",
       "    }\n",
       "</style>\n",
       "<table border=\"1\" class=\"dataframe\">\n",
       "  <thead>\n",
       "    <tr style=\"text-align: right;\">\n",
       "      <th>class</th>\n",
       "      <th>George W Bush</th>\n",
       "      <th>Hugo Chavez</th>\n",
       "      <th>John Ashcroft</th>\n",
       "      <th>accuracy</th>\n",
       "      <th>macro avg = bal accur</th>\n",
       "      <th>wtd avg = accur</th>\n",
       "    </tr>\n",
       "  </thead>\n",
       "  <tbody>\n",
       "    <tr>\n",
       "      <th>recall</th>\n",
       "      <td>0.962264</td>\n",
       "      <td>0.277778</td>\n",
       "      <td>0.269231</td>\n",
       "      <td>0.831804</td>\n",
       "      <td>0.503091</td>\n",
       "      <td>0.831804</td>\n",
       "    </tr>\n",
       "  </tbody>\n",
       "</table>\n",
       "</div>"
      ],
      "text/plain": [
       "class   George W Bush  Hugo Chavez  John Ashcroft  accuracy  \\\n",
       "recall       0.962264     0.277778       0.269231  0.831804   \n",
       "\n",
       "class   macro avg = bal accur  wtd avg = accur  \n",
       "recall               0.503091         0.831804  "
      ]
     },
     "execution_count": 7,
     "metadata": {},
     "output_type": "execute_result"
    }
   ],
   "source": [
    "%%time\n",
    "MAX_ITER=10000\n",
    "orig_model = linear_model.LogisticRegression(penalty='none', \n",
    "               max_iter=MAX_ITER).fit(X_tr, y_tr)\n",
    "classif_report(y_te, orig_model.predict(X_te))"
   ]
  },
  {
   "cell_type": "markdown",
   "metadata": {},
   "source": [
    "**83% accur only slightly better than dummy classifier.  Bal accur still terrible at 50%.**"
   ]
  },
  {
   "cell_type": "markdown",
   "metadata": {},
   "source": [
    "## using BenefitRebalancingClassifier (instead of PrevalenceAdjustingClassifier which was renamed from RebalancingClassifier)"
   ]
  },
  {
   "cell_type": "code",
   "execution_count": null,
   "metadata": {},
   "outputs": [],
   "source": []
  },
  {
   "cell_type": "code",
   "execution_count": 8,
   "metadata": {},
   "outputs": [
    {
     "name": "stdout",
     "output_type": "stream",
     "text": [
      "CPU times: total: 15.6 ms\n",
      "Wall time: 22.1 ms\n"
     ]
    },
    {
     "data": {
      "text/html": [
       "<div>\n",
       "<style scoped>\n",
       "    .dataframe tbody tr th:only-of-type {\n",
       "        vertical-align: middle;\n",
       "    }\n",
       "\n",
       "    .dataframe tbody tr th {\n",
       "        vertical-align: top;\n",
       "    }\n",
       "\n",
       "    .dataframe thead th {\n",
       "        text-align: right;\n",
       "    }\n",
       "</style>\n",
       "<table border=\"1\" class=\"dataframe\">\n",
       "  <thead>\n",
       "    <tr style=\"text-align: right;\">\n",
       "      <th>class</th>\n",
       "      <th>George W Bush</th>\n",
       "      <th>Hugo Chavez</th>\n",
       "      <th>John Ashcroft</th>\n",
       "      <th>accuracy</th>\n",
       "      <th>macro avg = bal accur</th>\n",
       "      <th>wtd avg = accur</th>\n",
       "    </tr>\n",
       "  </thead>\n",
       "  <tbody>\n",
       "    <tr>\n",
       "      <th>recall</th>\n",
       "      <td>0.686792</td>\n",
       "      <td>0.75</td>\n",
       "      <td>0.807692</td>\n",
       "      <td>0.703364</td>\n",
       "      <td>0.748162</td>\n",
       "      <td>0.703364</td>\n",
       "    </tr>\n",
       "  </tbody>\n",
       "</table>\n",
       "</div>"
      ],
      "text/plain": [
       "class   George W Bush  Hugo Chavez  John Ashcroft  accuracy  \\\n",
       "recall       0.686792         0.75       0.807692  0.703364   \n",
       "\n",
       "class   macro avg = bal accur  wtd avg = accur  \n",
       "recall               0.748162         0.703364  "
      ]
     },
     "execution_count": 8,
     "metadata": {},
     "output_type": "execute_result"
    }
   ],
   "source": [
    "%%time\n",
    "import rebalancing # downloaded rebalancing.py from link above\n",
    "model = rebalancing.BenefitRebalancingClassifier(orig_model).fit(X_tr, y_tr)\n",
    "classif_report(y_te, model.predict(X_te))"
   ]
  },
  {
   "cell_type": "markdown",
   "metadata": {},
   "source": [
    "**Bal accur went from .50 to .75 just above!  This time it's even better than class_weight='balanced' down below, though it won't always be\n",
    "**"
   ]
  },
  {
   "cell_type": "markdown",
   "metadata": {},
   "source": [
    "## Now just testing explicit uniform benefit_per_class *list* with arbitrary overall scale to get same result as just above:"
   ]
  },
  {
   "cell_type": "code",
   "execution_count": 9,
   "metadata": {},
   "outputs": [
    {
     "name": "stdout",
     "output_type": "stream",
     "text": [
      "CPU times: total: 15.6 ms\n",
      "Wall time: 15.6 ms\n"
     ]
    },
    {
     "data": {
      "text/html": [
       "<div>\n",
       "<style scoped>\n",
       "    .dataframe tbody tr th:only-of-type {\n",
       "        vertical-align: middle;\n",
       "    }\n",
       "\n",
       "    .dataframe tbody tr th {\n",
       "        vertical-align: top;\n",
       "    }\n",
       "\n",
       "    .dataframe thead th {\n",
       "        text-align: right;\n",
       "    }\n",
       "</style>\n",
       "<table border=\"1\" class=\"dataframe\">\n",
       "  <thead>\n",
       "    <tr style=\"text-align: right;\">\n",
       "      <th>class</th>\n",
       "      <th>George W Bush</th>\n",
       "      <th>Hugo Chavez</th>\n",
       "      <th>John Ashcroft</th>\n",
       "      <th>accuracy</th>\n",
       "      <th>macro avg = bal accur</th>\n",
       "      <th>wtd avg = accur</th>\n",
       "    </tr>\n",
       "  </thead>\n",
       "  <tbody>\n",
       "    <tr>\n",
       "      <th>recall</th>\n",
       "      <td>0.686792</td>\n",
       "      <td>0.75</td>\n",
       "      <td>0.807692</td>\n",
       "      <td>0.703364</td>\n",
       "      <td>0.748162</td>\n",
       "      <td>0.703364</td>\n",
       "    </tr>\n",
       "  </tbody>\n",
       "</table>\n",
       "</div>"
      ],
      "text/plain": [
       "class   George W Bush  Hugo Chavez  John Ashcroft  accuracy  \\\n",
       "recall       0.686792         0.75       0.807692  0.703364   \n",
       "\n",
       "class   macro avg = bal accur  wtd avg = accur  \n",
       "recall               0.748162         0.703364  "
      ]
     },
     "execution_count": 9,
     "metadata": {},
     "output_type": "execute_result"
    }
   ],
   "source": [
    "%%time\n",
    "model = rebalancing.BenefitRebalancingClassifier(orig_model, \n",
    "  benefit_per_class=[7e-6, 7e-6, 7e-6]).fit(X_tr, y_tr)\n",
    "classif_report(y_te, model.predict(X_te))"
   ]
  },
  {
   "cell_type": "markdown",
   "metadata": {},
   "source": [
    "## Now try assigning a little more benefit per class to classifying majority class Bush correctly:"
   ]
  },
  {
   "cell_type": "code",
   "execution_count": 10,
   "metadata": {},
   "outputs": [
    {
     "name": "stdout",
     "output_type": "stream",
     "text": [
      "CPU times: total: 0 ns\n",
      "Wall time: 0 ns\n"
     ]
    },
    {
     "data": {
      "text/html": [
       "<div>\n",
       "<style scoped>\n",
       "    .dataframe tbody tr th:only-of-type {\n",
       "        vertical-align: middle;\n",
       "    }\n",
       "\n",
       "    .dataframe tbody tr th {\n",
       "        vertical-align: top;\n",
       "    }\n",
       "\n",
       "    .dataframe thead th {\n",
       "        text-align: right;\n",
       "    }\n",
       "</style>\n",
       "<table border=\"1\" class=\"dataframe\">\n",
       "  <thead>\n",
       "    <tr style=\"text-align: right;\">\n",
       "      <th>class</th>\n",
       "      <th>George W Bush</th>\n",
       "      <th>Hugo Chavez</th>\n",
       "      <th>John Ashcroft</th>\n",
       "      <th>accuracy</th>\n",
       "      <th>macro avg = bal accur</th>\n",
       "      <th>wtd avg = accur</th>\n",
       "    </tr>\n",
       "  </thead>\n",
       "  <tbody>\n",
       "    <tr>\n",
       "      <th>recall</th>\n",
       "      <td>0.750943</td>\n",
       "      <td>0.75</td>\n",
       "      <td>0.769231</td>\n",
       "      <td>0.752294</td>\n",
       "      <td>0.756725</td>\n",
       "      <td>0.752294</td>\n",
       "    </tr>\n",
       "  </tbody>\n",
       "</table>\n",
       "</div>"
      ],
      "text/plain": [
       "class   George W Bush  Hugo Chavez  John Ashcroft  accuracy  \\\n",
       "recall       0.750943         0.75       0.769231  0.752294   \n",
       "\n",
       "class   macro avg = bal accur  wtd avg = accur  \n",
       "recall               0.756725         0.752294  "
      ]
     },
     "execution_count": 10,
     "metadata": {},
     "output_type": "execute_result"
    }
   ],
   "source": [
    "%%time\n",
    "model = rebalancing.BenefitRebalancingClassifier(orig_model, \n",
    "  benefit_per_class=[9, 7, 7]).fit(X_tr, y_tr)\n",
    "classif_report(y_te, model.predict(X_te))"
   ]
  },
  {
   "cell_type": "markdown",
   "metadata": {},
   "source": [
    "## Now fully re-train the model with class_weight='balanced' for comparison (very similar to randomly oversampling the training set):"
   ]
  },
  {
   "cell_type": "code",
   "execution_count": 11,
   "metadata": {},
   "outputs": [
    {
     "name": "stdout",
     "output_type": "stream",
     "text": [
      "CPU times: total: 484 ms\n",
      "Wall time: 486 ms\n"
     ]
    },
    {
     "data": {
      "text/html": [
       "<div>\n",
       "<style scoped>\n",
       "    .dataframe tbody tr th:only-of-type {\n",
       "        vertical-align: middle;\n",
       "    }\n",
       "\n",
       "    .dataframe tbody tr th {\n",
       "        vertical-align: top;\n",
       "    }\n",
       "\n",
       "    .dataframe thead th {\n",
       "        text-align: right;\n",
       "    }\n",
       "</style>\n",
       "<table border=\"1\" class=\"dataframe\">\n",
       "  <thead>\n",
       "    <tr style=\"text-align: right;\">\n",
       "      <th>class</th>\n",
       "      <th>George W Bush</th>\n",
       "      <th>Hugo Chavez</th>\n",
       "      <th>John Ashcroft</th>\n",
       "      <th>accuracy</th>\n",
       "      <th>macro avg = bal accur</th>\n",
       "      <th>wtd avg = accur</th>\n",
       "    </tr>\n",
       "  </thead>\n",
       "  <tbody>\n",
       "    <tr>\n",
       "      <th>recall</th>\n",
       "      <td>0.686792</td>\n",
       "      <td>0.75</td>\n",
       "      <td>0.730769</td>\n",
       "      <td>0.697248</td>\n",
       "      <td>0.722521</td>\n",
       "      <td>0.697248</td>\n",
       "    </tr>\n",
       "  </tbody>\n",
       "</table>\n",
       "</div>"
      ],
      "text/plain": [
       "class   George W Bush  Hugo Chavez  John Ashcroft  accuracy  \\\n",
       "recall       0.686792         0.75       0.730769  0.697248   \n",
       "\n",
       "class   macro avg = bal accur  wtd avg = accur  \n",
       "recall               0.722521         0.697248  "
      ]
     },
     "execution_count": 11,
     "metadata": {},
     "output_type": "execute_result"
    }
   ],
   "source": [
    "%%time\n",
    "model = linear_model.LogisticRegression(penalty='none', \n",
    "          class_weight='balanced', max_iter=MAX_ITER).fit(X_tr, y_tr)\n",
    "classif_report(y_te, model.predict(X_te))"
   ]
  },
  {
   "cell_type": "markdown",
   "metadata": {
    "tags": []
   },
   "source": [
    "**Balanced accuracy went from original .50 to .72 just above.  I don't care about the precision or F1.**"
   ]
  },
  {
   "cell_type": "code",
   "execution_count": null,
   "metadata": {},
   "outputs": [],
   "source": []
  },
  {
   "cell_type": "code",
   "execution_count": null,
   "metadata": {},
   "outputs": [],
   "source": []
  }
 ],
 "metadata": {
  "kernelspec": {
   "display_name": "Python 3 (ipykernel)",
   "language": "python",
   "name": "python3"
  },
  "language_info": {
   "codemirror_mode": {
    "name": "ipython",
    "version": 3
   },
   "file_extension": ".py",
   "mimetype": "text/x-python",
   "name": "python",
   "nbconvert_exporter": "python",
   "pygments_lexer": "ipython3",
   "version": "3.9.7"
  }
 },
 "nbformat": 4,
 "nbformat_minor": 4
}
